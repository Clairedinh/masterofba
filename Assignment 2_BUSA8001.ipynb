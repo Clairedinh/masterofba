{
 "cells": [
  {
   "cell_type": "code",
   "execution_count": 1,
   "id": "f86779b0-dd24-4269-83b9-a72388896251",
   "metadata": {
    "tags": []
   },
   "outputs": [],
   "source": [
    "# import library\n",
    "import matplotlib.pyplot as plt\n",
    "import pandas as pd\n",
    "import seaborn as sns\n",
    "import numpy as np "
   ]
  },
  {
   "cell_type": "markdown",
   "id": "ec137fb3-4044-428e-a0f1-65a99fd8af9c",
   "metadata": {},
   "source": [
    "## 1. Exploratory Data Analysis"
   ]
  },
  {
   "cell_type": "code",
   "execution_count": 2,
   "id": "194da276-99a5-490a-aad4-3572f30b9dfb",
   "metadata": {
    "tags": []
   },
   "outputs": [
    {
     "data": {
      "text/html": [
       "<div>\n",
       "<style scoped>\n",
       "    .dataframe tbody tr th:only-of-type {\n",
       "        vertical-align: middle;\n",
       "    }\n",
       "\n",
       "    .dataframe tbody tr th {\n",
       "        vertical-align: top;\n",
       "    }\n",
       "\n",
       "    .dataframe thead th {\n",
       "        text-align: right;\n",
       "    }\n",
       "</style>\n",
       "<table border=\"1\" class=\"dataframe\">\n",
       "  <thead>\n",
       "    <tr style=\"text-align: right;\">\n",
       "      <th></th>\n",
       "      <th>Gender</th>\n",
       "      <th>Marital Status</th>\n",
       "      <th>Age</th>\n",
       "      <th>Education</th>\n",
       "      <th>Income</th>\n",
       "      <th>Occupation</th>\n",
       "      <th>Settlement Size</th>\n",
       "    </tr>\n",
       "  </thead>\n",
       "  <tbody>\n",
       "    <tr>\n",
       "      <th>0</th>\n",
       "      <td>1</td>\n",
       "      <td>1</td>\n",
       "      <td>39</td>\n",
       "      <td>2</td>\n",
       "      <td>130568</td>\n",
       "      <td>1</td>\n",
       "      <td>2</td>\n",
       "    </tr>\n",
       "    <tr>\n",
       "      <th>1</th>\n",
       "      <td>0</td>\n",
       "      <td>0</td>\n",
       "      <td>29</td>\n",
       "      <td>1</td>\n",
       "      <td>80315</td>\n",
       "      <td>0</td>\n",
       "      <td>0</td>\n",
       "    </tr>\n",
       "    <tr>\n",
       "      <th>2</th>\n",
       "      <td>1</td>\n",
       "      <td>0</td>\n",
       "      <td>35</td>\n",
       "      <td>0</td>\n",
       "      <td>107067</td>\n",
       "      <td>0</td>\n",
       "      <td>0</td>\n",
       "    </tr>\n",
       "    <tr>\n",
       "      <th>3</th>\n",
       "      <td>0</td>\n",
       "      <td>1</td>\n",
       "      <td>56</td>\n",
       "      <td>2</td>\n",
       "      <td>214000</td>\n",
       "      <td>1</td>\n",
       "      <td>0</td>\n",
       "    </tr>\n",
       "    <tr>\n",
       "      <th>4</th>\n",
       "      <td>1</td>\n",
       "      <td>1</td>\n",
       "      <td>45</td>\n",
       "      <td>2</td>\n",
       "      <td>158138</td>\n",
       "      <td>1</td>\n",
       "      <td>2</td>\n",
       "    </tr>\n",
       "    <tr>\n",
       "      <th>...</th>\n",
       "      <td>...</td>\n",
       "      <td>...</td>\n",
       "      <td>...</td>\n",
       "      <td>...</td>\n",
       "      <td>...</td>\n",
       "      <td>...</td>\n",
       "      <td>...</td>\n",
       "    </tr>\n",
       "    <tr>\n",
       "      <th>1995</th>\n",
       "      <td>0</td>\n",
       "      <td>0</td>\n",
       "      <td>33</td>\n",
       "      <td>1</td>\n",
       "      <td>99931</td>\n",
       "      <td>0</td>\n",
       "      <td>0</td>\n",
       "    </tr>\n",
       "    <tr>\n",
       "      <th>1996</th>\n",
       "      <td>1</td>\n",
       "      <td>1</td>\n",
       "      <td>42</td>\n",
       "      <td>2</td>\n",
       "      <td>143369</td>\n",
       "      <td>1</td>\n",
       "      <td>2</td>\n",
       "    </tr>\n",
       "    <tr>\n",
       "      <th>1997</th>\n",
       "      <td>1</td>\n",
       "      <td>1</td>\n",
       "      <td>42</td>\n",
       "      <td>2</td>\n",
       "      <td>144512</td>\n",
       "      <td>1</td>\n",
       "      <td>2</td>\n",
       "    </tr>\n",
       "    <tr>\n",
       "      <th>1998</th>\n",
       "      <td>1</td>\n",
       "      <td>0</td>\n",
       "      <td>30</td>\n",
       "      <td>1</td>\n",
       "      <td>87071</td>\n",
       "      <td>0</td>\n",
       "      <td>0</td>\n",
       "    </tr>\n",
       "    <tr>\n",
       "      <th>1999</th>\n",
       "      <td>1</td>\n",
       "      <td>1</td>\n",
       "      <td>34</td>\n",
       "      <td>2</td>\n",
       "      <td>104537</td>\n",
       "      <td>1</td>\n",
       "      <td>2</td>\n",
       "    </tr>\n",
       "  </tbody>\n",
       "</table>\n",
       "<p>2000 rows × 7 columns</p>\n",
       "</div>"
      ],
      "text/plain": [
       "      Gender  Marital Status  Age  Education  Income  Occupation  \\\n",
       "0          1               1   39          2  130568           1   \n",
       "1          0               0   29          1   80315           0   \n",
       "2          1               0   35          0  107067           0   \n",
       "3          0               1   56          2  214000           1   \n",
       "4          1               1   45          2  158138           1   \n",
       "...      ...             ...  ...        ...     ...         ...   \n",
       "1995       0               0   33          1   99931           0   \n",
       "1996       1               1   42          2  143369           1   \n",
       "1997       1               1   42          2  144512           1   \n",
       "1998       1               0   30          1   87071           0   \n",
       "1999       1               1   34          2  104537           1   \n",
       "\n",
       "      Settlement Size  \n",
       "0                   2  \n",
       "1                   0  \n",
       "2                   0  \n",
       "3                   0  \n",
       "4                   2  \n",
       "...               ...  \n",
       "1995                0  \n",
       "1996                2  \n",
       "1997                2  \n",
       "1998                0  \n",
       "1999                2  \n",
       "\n",
       "[2000 rows x 7 columns]"
      ]
     },
     "execution_count": 2,
     "metadata": {},
     "output_type": "execute_result"
    }
   ],
   "source": [
    "# Load the data.csv file\n",
    "df = pd.read_csv('data/data.csv')\n",
    "df"
   ]
  },
  {
   "cell_type": "code",
   "execution_count": 3,
   "id": "9a2bf24c-c640-41be-9bc4-9ab668cbd25e",
   "metadata": {},
   "outputs": [],
   "source": [
    "categories = ['Sex', 'Marital status', 'Education', 'Occupation', 'Settlement size']\n",
    "numeric = ['Age','Income']"
   ]
  },
  {
   "cell_type": "code",
   "execution_count": 4,
   "id": "15e6754e-a0fc-4ac4-848a-c3ae0680ecc8",
   "metadata": {
    "tags": []
   },
   "outputs": [
    {
     "data": {
      "text/html": [
       "<div>\n",
       "<style scoped>\n",
       "    .dataframe tbody tr th:only-of-type {\n",
       "        vertical-align: middle;\n",
       "    }\n",
       "\n",
       "    .dataframe tbody tr th {\n",
       "        vertical-align: top;\n",
       "    }\n",
       "\n",
       "    .dataframe thead th {\n",
       "        text-align: right;\n",
       "    }\n",
       "</style>\n",
       "<table border=\"1\" class=\"dataframe\">\n",
       "  <thead>\n",
       "    <tr style=\"text-align: right;\">\n",
       "      <th></th>\n",
       "      <th>Gender</th>\n",
       "      <th>Marital Status</th>\n",
       "      <th>Age</th>\n",
       "      <th>Education</th>\n",
       "      <th>Income</th>\n",
       "      <th>Occupation</th>\n",
       "      <th>Settlement Size</th>\n",
       "    </tr>\n",
       "  </thead>\n",
       "  <tbody>\n",
       "    <tr>\n",
       "      <th>count</th>\n",
       "      <td>2000.00000</td>\n",
       "      <td>2000.000000</td>\n",
       "      <td>2000.000000</td>\n",
       "      <td>2000.000000</td>\n",
       "      <td>2000.000000</td>\n",
       "      <td>2000.000000</td>\n",
       "      <td>2000.000000</td>\n",
       "    </tr>\n",
       "    <tr>\n",
       "      <th>mean</th>\n",
       "      <td>0.60450</td>\n",
       "      <td>0.500500</td>\n",
       "      <td>40.823500</td>\n",
       "      <td>1.456500</td>\n",
       "      <td>137516.196500</td>\n",
       "      <td>0.612500</td>\n",
       "      <td>0.834000</td>\n",
       "    </tr>\n",
       "    <tr>\n",
       "      <th>std</th>\n",
       "      <td>0.48908</td>\n",
       "      <td>0.500125</td>\n",
       "      <td>9.455848</td>\n",
       "      <td>0.783846</td>\n",
       "      <td>46184.296588</td>\n",
       "      <td>0.674219</td>\n",
       "      <td>0.967942</td>\n",
       "    </tr>\n",
       "    <tr>\n",
       "      <th>min</th>\n",
       "      <td>0.00000</td>\n",
       "      <td>0.000000</td>\n",
       "      <td>20.000000</td>\n",
       "      <td>0.000000</td>\n",
       "      <td>35832.000000</td>\n",
       "      <td>0.000000</td>\n",
       "      <td>0.000000</td>\n",
       "    </tr>\n",
       "    <tr>\n",
       "      <th>25%</th>\n",
       "      <td>0.00000</td>\n",
       "      <td>0.000000</td>\n",
       "      <td>33.000000</td>\n",
       "      <td>1.000000</td>\n",
       "      <td>101262.750000</td>\n",
       "      <td>0.000000</td>\n",
       "      <td>0.000000</td>\n",
       "    </tr>\n",
       "    <tr>\n",
       "      <th>50%</th>\n",
       "      <td>1.00000</td>\n",
       "      <td>1.000000</td>\n",
       "      <td>40.000000</td>\n",
       "      <td>1.000000</td>\n",
       "      <td>133004.000000</td>\n",
       "      <td>1.000000</td>\n",
       "      <td>0.000000</td>\n",
       "    </tr>\n",
       "    <tr>\n",
       "      <th>75%</th>\n",
       "      <td>1.00000</td>\n",
       "      <td>1.000000</td>\n",
       "      <td>48.000000</td>\n",
       "      <td>2.000000</td>\n",
       "      <td>171232.500000</td>\n",
       "      <td>1.000000</td>\n",
       "      <td>2.000000</td>\n",
       "    </tr>\n",
       "    <tr>\n",
       "      <th>max</th>\n",
       "      <td>1.00000</td>\n",
       "      <td>1.000000</td>\n",
       "      <td>76.000000</td>\n",
       "      <td>3.000000</td>\n",
       "      <td>309364.000000</td>\n",
       "      <td>2.000000</td>\n",
       "      <td>2.000000</td>\n",
       "    </tr>\n",
       "  </tbody>\n",
       "</table>\n",
       "</div>"
      ],
      "text/plain": [
       "           Gender  Marital Status          Age    Education         Income  \\\n",
       "count  2000.00000     2000.000000  2000.000000  2000.000000    2000.000000   \n",
       "mean      0.60450        0.500500    40.823500     1.456500  137516.196500   \n",
       "std       0.48908        0.500125     9.455848     0.783846   46184.296588   \n",
       "min       0.00000        0.000000    20.000000     0.000000   35832.000000   \n",
       "25%       0.00000        0.000000    33.000000     1.000000  101262.750000   \n",
       "50%       1.00000        1.000000    40.000000     1.000000  133004.000000   \n",
       "75%       1.00000        1.000000    48.000000     2.000000  171232.500000   \n",
       "max       1.00000        1.000000    76.000000     3.000000  309364.000000   \n",
       "\n",
       "        Occupation  Settlement Size  \n",
       "count  2000.000000      2000.000000  \n",
       "mean      0.612500         0.834000  \n",
       "std       0.674219         0.967942  \n",
       "min       0.000000         0.000000  \n",
       "25%       0.000000         0.000000  \n",
       "50%       1.000000         0.000000  \n",
       "75%       1.000000         2.000000  \n",
       "max       2.000000         2.000000  "
      ]
     },
     "execution_count": 4,
     "metadata": {},
     "output_type": "execute_result"
    }
   ],
   "source": [
    "# Generate descriptive statistics for the DataFrame\n",
    "df.describe()"
   ]
  },
  {
   "cell_type": "code",
   "execution_count": 5,
   "id": "708150e6-acc4-4f4a-b564-c834275180a9",
   "metadata": {
    "tags": []
   },
   "outputs": [
    {
     "data": {
      "text/html": [
       "<div>\n",
       "<style scoped>\n",
       "    .dataframe tbody tr th:only-of-type {\n",
       "        vertical-align: middle;\n",
       "    }\n",
       "\n",
       "    .dataframe tbody tr th {\n",
       "        vertical-align: top;\n",
       "    }\n",
       "\n",
       "    .dataframe thead th {\n",
       "        text-align: right;\n",
       "    }\n",
       "</style>\n",
       "<table border=\"1\" class=\"dataframe\">\n",
       "  <thead>\n",
       "    <tr style=\"text-align: right;\">\n",
       "      <th></th>\n",
       "      <th>Gender</th>\n",
       "      <th>Marital Status</th>\n",
       "      <th>Age</th>\n",
       "      <th>Education</th>\n",
       "      <th>Income</th>\n",
       "      <th>Occupation</th>\n",
       "      <th>Settlement Size</th>\n",
       "    </tr>\n",
       "  </thead>\n",
       "  <tbody>\n",
       "    <tr>\n",
       "      <th>count</th>\n",
       "      <td>2000.0000</td>\n",
       "      <td>2000.0000</td>\n",
       "      <td>2000.0000</td>\n",
       "      <td>2000.0000</td>\n",
       "      <td>2000.0000</td>\n",
       "      <td>2000.0000</td>\n",
       "      <td>2000.000</td>\n",
       "    </tr>\n",
       "    <tr>\n",
       "      <th>mean</th>\n",
       "      <td>0.6045</td>\n",
       "      <td>0.5005</td>\n",
       "      <td>40.8235</td>\n",
       "      <td>1.4565</td>\n",
       "      <td>137516.1965</td>\n",
       "      <td>0.6125</td>\n",
       "      <td>0.834</td>\n",
       "    </tr>\n",
       "    <tr>\n",
       "      <th>50%</th>\n",
       "      <td>1.0000</td>\n",
       "      <td>1.0000</td>\n",
       "      <td>40.0000</td>\n",
       "      <td>1.0000</td>\n",
       "      <td>133004.0000</td>\n",
       "      <td>1.0000</td>\n",
       "      <td>0.000</td>\n",
       "    </tr>\n",
       "    <tr>\n",
       "      <th>min</th>\n",
       "      <td>0.0000</td>\n",
       "      <td>0.0000</td>\n",
       "      <td>20.0000</td>\n",
       "      <td>0.0000</td>\n",
       "      <td>35832.0000</td>\n",
       "      <td>0.0000</td>\n",
       "      <td>0.000</td>\n",
       "    </tr>\n",
       "    <tr>\n",
       "      <th>max</th>\n",
       "      <td>1.0000</td>\n",
       "      <td>1.0000</td>\n",
       "      <td>76.0000</td>\n",
       "      <td>3.0000</td>\n",
       "      <td>309364.0000</td>\n",
       "      <td>2.0000</td>\n",
       "      <td>2.000</td>\n",
       "    </tr>\n",
       "  </tbody>\n",
       "</table>\n",
       "</div>"
      ],
      "text/plain": [
       "          Gender  Marital Status        Age  Education       Income  \\\n",
       "count  2000.0000       2000.0000  2000.0000  2000.0000    2000.0000   \n",
       "mean      0.6045          0.5005    40.8235     1.4565  137516.1965   \n",
       "50%       1.0000          1.0000    40.0000     1.0000  133004.0000   \n",
       "min       0.0000          0.0000    20.0000     0.0000   35832.0000   \n",
       "max       1.0000          1.0000    76.0000     3.0000  309364.0000   \n",
       "\n",
       "       Occupation  Settlement Size  \n",
       "count   2000.0000         2000.000  \n",
       "mean       0.6125            0.834  \n",
       "50%        1.0000            0.000  \n",
       "min        0.0000            0.000  \n",
       "max        2.0000            2.000  "
      ]
     },
     "execution_count": 5,
     "metadata": {},
     "output_type": "execute_result"
    }
   ],
   "source": [
    "## Summary statistics\n",
    "df.describe().loc[['count', 'mean', '50%', 'min', 'max']]"
   ]
  },
  {
   "cell_type": "code",
   "execution_count": 6,
   "id": "b2dc3fb4-5421-4ee9-ad79-3f9eaa691c11",
   "metadata": {
    "tags": []
   },
   "outputs": [
    {
     "name": "stdout",
     "output_type": "stream",
     "text": [
      "<class 'pandas.core.frame.DataFrame'>\n",
      "RangeIndex: 2000 entries, 0 to 1999\n",
      "Data columns (total 7 columns):\n",
      " #   Column           Non-Null Count  Dtype\n",
      "---  ------           --------------  -----\n",
      " 0   Gender           2000 non-null   int64\n",
      " 1   Marital Status   2000 non-null   int64\n",
      " 2   Age              2000 non-null   int64\n",
      " 3   Education        2000 non-null   int64\n",
      " 4   Income           2000 non-null   int64\n",
      " 5   Occupation       2000 non-null   int64\n",
      " 6   Settlement Size  2000 non-null   int64\n",
      "dtypes: int64(7)\n",
      "memory usage: 109.5 KB\n"
     ]
    }
   ],
   "source": [
    "# Get a concise summary of the DataFrame\n",
    "df.info()"
   ]
  },
  {
   "cell_type": "code",
   "execution_count": 28,
   "id": "026a4b30-dba3-430a-bbec-424d385e7213",
   "metadata": {
    "tags": []
   },
   "outputs": [
    {
     "data": {
      "text/plain": [
       "Gender             0\n",
       "Marital Status     0\n",
       "Age                0\n",
       "Education          0\n",
       "Income             0\n",
       "Occupation         0\n",
       "Settlement Size    0\n",
       "age_scaled         0\n",
       "income_scaled      0\n",
       "dtype: int64"
      ]
     },
     "execution_count": 28,
     "metadata": {},
     "output_type": "execute_result"
    }
   ],
   "source": [
    "df.isnull().sum()"
   ]
  },
  {
   "cell_type": "code",
   "execution_count": 7,
   "id": "ea1ba188-3717-4390-bedb-e3cf4d171086",
   "metadata": {
    "tags": []
   },
   "outputs": [
    {
     "data": {
      "image/png": "[encoded data removed]",
      "text/plain": [
       "<Figure size 1200x600 with 2 Axes>"
      ]
     },
     "metadata": {},
     "output_type": "display_data"
    }
   ],
   "source": [
    "# Create a figure with subplots\n",
    "plt.figure(figsize=(12, 6))\n",
    "\n",
    "# Plot histogram for Age\n",
    "plt.subplot(1, 2, 1)\n",
    "plt.hist(df['Age'], bins=20, edgecolor='black')\n",
    "plt.xlabel('Age')\n",
    "plt.ylabel('Frequency')\n",
    "plt.title('Distribution of Age')\n",
    "\n",
    "# Plot histogram for Income\n",
    "plt.subplot(1, 2, 2)\n",
    "plt.hist(df['Income'], bins=10, edgecolor='black')\n",
    "plt.xlabel('Income')\n",
    "plt.ylabel('Frequency')\n",
    "plt.title('Distribution of Income')\n",
    "\n",
    "# Adjust layout and show the plot\n",
    "plt.tight_layout()\n",
    "plt.show()"
   ]
  },
  {
   "cell_type": "code",
   "execution_count": 8,
   "id": "c21fe2c0-1323-4825-b2c3-6e0a7a11a640",
   "metadata": {
    "tags": []
   },
   "outputs": [
    {
     "data": {
      "image/png": "[encoded data removed]",
      "text/plain": [
       "<Figure size 1800x1200 with 5 Axes>"
      ]
     },
     "metadata": {},
     "output_type": "display_data"
    }
   ],
   "source": [
    "# Create subplots with 2 rows and 3 columns\n",
    "fig, axes = plt.subplots(2, 3, figsize=(18, 12))\n",
    "\n",
    "# Plot 1: Gender Distribution\n",
    "gender_counts = df['Gender'].map({0: 'Male', 1: 'Female'}).value_counts()\n",
    "axes[0, 0].pie(gender_counts, labels=gender_counts.index, autopct='%1.1f%%', startangle=90, colors=['#3498db', '#e74c3c'])\n",
    "axes[0, 0].set_title('Distribution of Customers By Gender')\n",
    "axes[0, 0].axis('equal')  # Equal aspect ratio ensures the pie is drawn as a circle\n",
    "\n",
    "# Plot 2: Marital Status Distribution\n",
    "marital_status_counts = df['Marital Status'].map({0: 'Single', 1: 'Non-Single'}).value_counts()\n",
    "axes[0, 1].pie(marital_status_counts, labels=marital_status_counts.index, autopct='%1.1f%%', startangle=90, colors=['#2ecc71', '#f39c12'])\n",
    "axes[0, 1].set_title('Distribution of Customers By Marital Status')\n",
    "axes[0, 1].axis('equal')\n",
    "\n",
    "# Plot 3: Education Level Distribution\n",
    "education_counts = df['Education'].map({0: 'Other/Unknown', 1: 'High School', 2: 'University', 3: 'Graduate School'}).value_counts()\n",
    "axes[0, 2].pie(education_counts, labels=education_counts.index, autopct='%1.1f%%', startangle=90, colors=['#3498db', '#e74c3c', '#2ecc71', '#f39c12'])\n",
    "axes[0, 2].set_title('Distribution of Customers By Educational Level')\n",
    "axes[0, 2].axis('equal')\n",
    "\n",
    "# Plot 4: Settlement Size Distribution\n",
    "settlement_counts = df['Settlement Size'].map({0: 'Small City', 1: 'Mid-sized City', 2: 'Big City'}).value_counts()\n",
    "axes[1, 0].pie(settlement_counts, labels=settlement_counts.index, autopct='%1.1f%%', startangle=90, colors=['#3498db', '#e74c3c', '#2ecc71'])\n",
    "axes[1, 0].set_title('Distribution of Customers by Settlement Size')\n",
    "axes[1, 0].axis('equal')\n",
    "\n",
    "# Plot 5: Occupation Distribution\n",
    "occupation_counts = df['Occupation'].map({0: 'Unemployed/Unskilled', 1: 'Skilled Employee', 2: 'Management/Self-employed'}).value_counts()\n",
    "axes[1, 1].pie(occupation_counts, labels=occupation_counts.index, autopct='%1.1f%%', startangle=90, colors=['#3498db', '#e74c3c', '#2ecc71'])\n",
    "axes[1, 1].set_title('Distribution of Customers By Occupation')\n",
    "axes[1, 1].axis('equal')\n",
    "\n",
    "# Remove the last empty plot (axes[1, 2])\n",
    "fig.delaxes(axes[1, 2])\n",
    "\n",
    "# Adjust layout\n",
    "plt.tight_layout()\n",
    "plt.show()\n"
   ]
  },
  {
   "cell_type": "markdown",
   "id": "76640650-6e70-4de1-81d6-85d249762e2d",
   "metadata": {},
   "source": [
    "## 2. Customer Segmentation"
   ]
  },
  {
   "cell_type": "markdown",
   "id": "9e77a4f5-3fc1-4ca5-bbf1-8025e3674fee",
   "metadata": {},
   "source": [
    "### Standardise the two numeric variables using StandardScaler"
   ]
  },
  {
   "cell_type": "code",
   "execution_count": 9,
   "id": "0ac68554-5814-4794-ae89-896cc4778c68",
   "metadata": {
    "tags": []
   },
   "outputs": [],
   "source": [
    "from sklearn.preprocessing import StandardScaler\n",
    "# np.set_printoptions(precision=3, suppress = True) # pretty printing\n",
    "\n",
    "# Select the numeric variables to standardize\n",
    "X = df[['Age', 'Income']]\n",
    "sc = StandardScaler()\n",
    "X_scaled = sc.fit_transform(X)\n"
   ]
  },
  {
   "cell_type": "code",
   "execution_count": 10,
   "id": "d762cdf7-569f-4693-a5ab-d5a38e52b26d",
   "metadata": {
    "tags": []
   },
   "outputs": [],
   "source": [
    "# Add scaled variables to the original DataFrame\n",
    "df['age_scaled'] = X_scaled[:, 0]  # Add scaled Age\n",
    "df['income_scaled'] = X_scaled[:, 1]  # Add scaled Income\n"
   ]
  },
  {
   "cell_type": "code",
   "execution_count": 11,
   "id": "13f75976-c270-40d9-b16b-a56d73f2e667",
   "metadata": {
    "tags": []
   },
   "outputs": [
    {
     "data": {
      "text/html": [
       "<div>\n",
       "<style scoped>\n",
       "    .dataframe tbody tr th:only-of-type {\n",
       "        vertical-align: middle;\n",
       "    }\n",
       "\n",
       "    .dataframe tbody tr th {\n",
       "        vertical-align: top;\n",
       "    }\n",
       "\n",
       "    .dataframe thead th {\n",
       "        text-align: right;\n",
       "    }\n",
       "</style>\n",
       "<table border=\"1\" class=\"dataframe\">\n",
       "  <thead>\n",
       "    <tr style=\"text-align: right;\">\n",
       "      <th></th>\n",
       "      <th>Gender</th>\n",
       "      <th>Marital Status</th>\n",
       "      <th>Age</th>\n",
       "      <th>Education</th>\n",
       "      <th>Income</th>\n",
       "      <th>Occupation</th>\n",
       "      <th>Settlement Size</th>\n",
       "      <th>age_scaled</th>\n",
       "      <th>income_scaled</th>\n",
       "    </tr>\n",
       "  </thead>\n",
       "  <tbody>\n",
       "    <tr>\n",
       "      <th>0</th>\n",
       "      <td>1</td>\n",
       "      <td>1</td>\n",
       "      <td>39</td>\n",
       "      <td>2</td>\n",
       "      <td>130568</td>\n",
       "      <td>1</td>\n",
       "      <td>2</td>\n",
       "      <td>-0.192892</td>\n",
       "      <td>-0.150483</td>\n",
       "    </tr>\n",
       "    <tr>\n",
       "      <th>1</th>\n",
       "      <td>0</td>\n",
       "      <td>0</td>\n",
       "      <td>29</td>\n",
       "      <td>1</td>\n",
       "      <td>80315</td>\n",
       "      <td>0</td>\n",
       "      <td>0</td>\n",
       "      <td>-1.250703</td>\n",
       "      <td>-1.238852</td>\n",
       "    </tr>\n",
       "    <tr>\n",
       "      <th>2</th>\n",
       "      <td>1</td>\n",
       "      <td>0</td>\n",
       "      <td>35</td>\n",
       "      <td>0</td>\n",
       "      <td>107067</td>\n",
       "      <td>0</td>\n",
       "      <td>0</td>\n",
       "      <td>-0.616016</td>\n",
       "      <td>-0.659462</td>\n",
       "    </tr>\n",
       "    <tr>\n",
       "      <th>3</th>\n",
       "      <td>0</td>\n",
       "      <td>1</td>\n",
       "      <td>56</td>\n",
       "      <td>2</td>\n",
       "      <td>214000</td>\n",
       "      <td>1</td>\n",
       "      <td>0</td>\n",
       "      <td>1.605387</td>\n",
       "      <td>1.656471</td>\n",
       "    </tr>\n",
       "    <tr>\n",
       "      <th>4</th>\n",
       "      <td>1</td>\n",
       "      <td>1</td>\n",
       "      <td>45</td>\n",
       "      <td>2</td>\n",
       "      <td>158138</td>\n",
       "      <td>1</td>\n",
       "      <td>2</td>\n",
       "      <td>0.441795</td>\n",
       "      <td>0.446623</td>\n",
       "    </tr>\n",
       "    <tr>\n",
       "      <th>...</th>\n",
       "      <td>...</td>\n",
       "      <td>...</td>\n",
       "      <td>...</td>\n",
       "      <td>...</td>\n",
       "      <td>...</td>\n",
       "      <td>...</td>\n",
       "      <td>...</td>\n",
       "      <td>...</td>\n",
       "      <td>...</td>\n",
       "    </tr>\n",
       "    <tr>\n",
       "      <th>1995</th>\n",
       "      <td>0</td>\n",
       "      <td>0</td>\n",
       "      <td>33</td>\n",
       "      <td>1</td>\n",
       "      <td>99931</td>\n",
       "      <td>0</td>\n",
       "      <td>0</td>\n",
       "      <td>-0.827579</td>\n",
       "      <td>-0.814013</td>\n",
       "    </tr>\n",
       "    <tr>\n",
       "      <th>1996</th>\n",
       "      <td>1</td>\n",
       "      <td>1</td>\n",
       "      <td>42</td>\n",
       "      <td>2</td>\n",
       "      <td>143369</td>\n",
       "      <td>1</td>\n",
       "      <td>2</td>\n",
       "      <td>0.124451</td>\n",
       "      <td>0.126759</td>\n",
       "    </tr>\n",
       "    <tr>\n",
       "      <th>1997</th>\n",
       "      <td>1</td>\n",
       "      <td>1</td>\n",
       "      <td>42</td>\n",
       "      <td>2</td>\n",
       "      <td>144512</td>\n",
       "      <td>1</td>\n",
       "      <td>2</td>\n",
       "      <td>0.124451</td>\n",
       "      <td>0.151514</td>\n",
       "    </tr>\n",
       "    <tr>\n",
       "      <th>1998</th>\n",
       "      <td>1</td>\n",
       "      <td>0</td>\n",
       "      <td>30</td>\n",
       "      <td>1</td>\n",
       "      <td>87071</td>\n",
       "      <td>0</td>\n",
       "      <td>0</td>\n",
       "      <td>-1.144922</td>\n",
       "      <td>-1.092532</td>\n",
       "    </tr>\n",
       "    <tr>\n",
       "      <th>1999</th>\n",
       "      <td>1</td>\n",
       "      <td>1</td>\n",
       "      <td>34</td>\n",
       "      <td>2</td>\n",
       "      <td>104537</td>\n",
       "      <td>1</td>\n",
       "      <td>2</td>\n",
       "      <td>-0.721797</td>\n",
       "      <td>-0.714257</td>\n",
       "    </tr>\n",
       "  </tbody>\n",
       "</table>\n",
       "<p>2000 rows × 9 columns</p>\n",
       "</div>"
      ],
      "text/plain": [
       "      Gender  Marital Status  Age  Education  Income  Occupation  \\\n",
       "0          1               1   39          2  130568           1   \n",
       "1          0               0   29          1   80315           0   \n",
       "2          1               0   35          0  107067           0   \n",
       "3          0               1   56          2  214000           1   \n",
       "4          1               1   45          2  158138           1   \n",
       "...      ...             ...  ...        ...     ...         ...   \n",
       "1995       0               0   33          1   99931           0   \n",
       "1996       1               1   42          2  143369           1   \n",
       "1997       1               1   42          2  144512           1   \n",
       "1998       1               0   30          1   87071           0   \n",
       "1999       1               1   34          2  104537           1   \n",
       "\n",
       "      Settlement Size  age_scaled  income_scaled  \n",
       "0                   2   -0.192892      -0.150483  \n",
       "1                   0   -1.250703      -1.238852  \n",
       "2                   0   -0.616016      -0.659462  \n",
       "3                   0    1.605387       1.656471  \n",
       "4                   2    0.441795       0.446623  \n",
       "...               ...         ...            ...  \n",
       "1995                0   -0.827579      -0.814013  \n",
       "1996                2    0.124451       0.126759  \n",
       "1997                2    0.124451       0.151514  \n",
       "1998                0   -1.144922      -1.092532  \n",
       "1999                2   -0.721797      -0.714257  \n",
       "\n",
       "[2000 rows x 9 columns]"
      ]
     },
     "execution_count": 11,
     "metadata": {},
     "output_type": "execute_result"
    }
   ],
   "source": [
    "df"
   ]
  },
  {
   "cell_type": "markdown",
   "id": "2bee43cc-6fd3-4f93-b07c-29445990909e",
   "metadata": {},
   "source": [
    "### **Choose the optimal number of customer segments/clusters using the Elbow Method**"
   ]
  },
  {
   "cell_type": "code",
   "execution_count": 12,
   "id": "e094469d-679a-4eea-b73a-cdbb534ffc3e",
   "metadata": {
    "tags": []
   },
   "outputs": [],
   "source": [
    "# Drop the 'Age' and 'Income' columns from the DataFrame\n",
    "df_drop = df.drop(['Age', 'Income'], axis=1)\n",
    "\n",
    "X = df_drop.copy()"
   ]
  },
  {
   "cell_type": "code",
   "execution_count": 13,
   "id": "12ab4ac4-f78d-4a4f-89d2-dd93fb5bed55",
   "metadata": {
    "tags": []
   },
   "outputs": [
    {
     "data": {
      "image/png": "[encoded data removed]",
      "text/plain": [
       "<Figure size 640x480 with 1 Axes>"
      ]
     },
     "metadata": {},
     "output_type": "display_data"
    }
   ],
   "source": [
    "from sklearn.cluster import KMeans\n",
    "\n",
    "# Determine number of clusters using Elbow Method\n",
    "inertias = []  # Empty list to store inertia values\n",
    "\n",
    "\n",
    "for i in range(1, 11):  # Run from 1 to max number of clusters\n",
    "    km = KMeans(n_clusters=i, \n",
    "                init='k-means++', \n",
    "                n_init=10, \n",
    "                max_iter=300, \n",
    "                random_state=0)\n",
    "    km.fit(X)\n",
    "    inertias.append(km.inertia_)\n",
    "\n",
    "# Plot the Elbow Curve\n",
    "plt.plot(range(1, 11), inertias, marker='o')\n",
    "plt.xlabel('Number of clusters')\n",
    "plt.ylabel('Cluster inertia (within-cluster SSE)')\n",
    "plt.xticks(range(1, 11))\n",
    "plt.tight_layout()\n",
    "plt.show()"
   ]
  },
  {
   "cell_type": "markdown",
   "id": "031af8c3-b23c-4417-bd2a-5ebc5e433904",
   "metadata": {},
   "source": [
    "### **Choose the optimal number of customer segments/clusters using three appropriately chosen Silhouette Plots**"
   ]
  },
  {
   "cell_type": "code",
   "execution_count": 14,
   "id": "13f3e75a-8287-4469-aa28-624e6ac753c6",
   "metadata": {
    "tags": []
   },
   "outputs": [],
   "source": [
    "import numpy as np\n",
    "from matplotlib import cm\n",
    "\n",
    "from sklearn.metrics import silhouette_samples\n",
    "\n",
    "km = KMeans(n_clusters=2,  \n",
    "            init='k-means++', \n",
    "            n_init=10, \n",
    "            max_iter=300,\n",
    "            tol=1e-04,\n",
    "            random_state=0)\n",
    "\n",
    "y_km = km.fit_predict(X)\n",
    "# print(y_km)\n",
    "\n",
    "cluster_labels = np.unique(y_km)\n",
    "# print(cluster_labels)\n",
    "\n",
    "n_clusters = cluster_labels.shape[0]\n",
    "\n",
    "silhouette_vals = silhouette_samples(X, y_km, metric='euclidean')\n",
    "# print('silhouette_vals\\n', silhouette_vals)"
   ]
  },
  {
   "cell_type": "code",
   "execution_count": 15,
   "id": "9da6d98f-4d33-4d89-93ed-541f7925707a",
   "metadata": {
    "tags": []
   },
   "outputs": [
    {
     "name": "stdout",
     "output_type": "stream",
     "text": [
      "silhouette_avg: 0.54\n"
     ]
    },
    {
     "data": {
      "image/png": "[encoded data removed]",
      "text/plain": [
       "<Figure size 640x480 with 1 Axes>"
      ]
     },
     "metadata": {},
     "output_type": "display_data"
    }
   ],
   "source": [
    "y_ax_lower, y_ax_upper = 0, 0\n",
    "yticks = []\n",
    "\n",
    "for i, c in enumerate(cluster_labels):\n",
    "    c_silhouette_vals = silhouette_vals[y_km == c]\n",
    "    c_silhouette_vals.sort()\n",
    "    y_ax_upper += len(c_silhouette_vals)\n",
    "    color = cm.jet(float(i) / n_clusters)\n",
    "    plt.barh(range(y_ax_lower, y_ax_upper), c_silhouette_vals, height=1.0, edgecolor='none', color=color)\n",
    "    yticks.append((y_ax_lower + y_ax_upper) / 2.)\n",
    "    y_ax_lower += len(c_silhouette_vals)\n",
    "    \n",
    "    \n",
    "silhouette_avg = np.mean(silhouette_vals)\n",
    "print(f'silhouette_avg: {silhouette_avg:.2f}')\n",
    "\n",
    "plt.axvline(silhouette_avg, color=\"red\", linestyle=\"--\") # plot vertical average line\n",
    "\n",
    "plt.yticks(yticks, cluster_labels + 1)\n",
    "plt.ylabel('Cluster')\n",
    "plt.xlabel('Silhouette coefficient')\n",
    "\n",
    "plt.tight_layout()\n",
    "#plt.savefig('images/11_04.png', dpi=300)\n",
    "plt.show()"
   ]
  },
  {
   "cell_type": "code",
   "execution_count": 16,
   "id": "80fb06f9-8ba6-479f-90d1-7ee364480c08",
   "metadata": {
    "tags": []
   },
   "outputs": [
    {
     "name": "stdout",
     "output_type": "stream",
     "text": [
      "silhouette_avg: 0.43\n"
     ]
    },
    {
     "data": {
      "image/png": "[encoded data removed]",
      "text/plain": [
       "<Figure size 640x480 with 1 Axes>"
      ]
     },
     "metadata": {},
     "output_type": "display_data"
    }
   ],
   "source": [
    "km = KMeans(n_clusters=3,  \n",
    "            init='k-means++', \n",
    "            n_init=10, \n",
    "            max_iter=300,\n",
    "            tol=1e-04,\n",
    "            random_state=0)\n",
    "\n",
    "y_km = km.fit_predict(X)\n",
    "# print(y_km)\n",
    "\n",
    "cluster_labels = np.unique(y_km)\n",
    "# print(cluster_labels)\n",
    "\n",
    "n_clusters = cluster_labels.shape[0]\n",
    "\n",
    "silhouette_vals = silhouette_samples(X, y_km, metric='euclidean')\n",
    "# print('silhouette_vals\\n', silhouette_vals)\n",
    "y_ax_lower, y_ax_upper = 0, 0\n",
    "yticks = []\n",
    "\n",
    "for i, c in enumerate(cluster_labels):\n",
    "    c_silhouette_vals = silhouette_vals[y_km == c]\n",
    "    c_silhouette_vals.sort()\n",
    "    y_ax_upper += len(c_silhouette_vals)\n",
    "    color = cm.jet(float(i) / n_clusters)\n",
    "    plt.barh(range(y_ax_lower, y_ax_upper), c_silhouette_vals, height=1.0, edgecolor='none', color=color)\n",
    "    yticks.append((y_ax_lower + y_ax_upper) / 2.)\n",
    "    y_ax_lower += len(c_silhouette_vals)\n",
    "    \n",
    "    \n",
    "silhouette_avg = np.mean(silhouette_vals)\n",
    "print(f'silhouette_avg: {silhouette_avg:.2f}')\n",
    "\n",
    "plt.axvline(silhouette_avg, color=\"red\", linestyle=\"--\") # plot vertical average line\n",
    "\n",
    "plt.yticks(yticks, cluster_labels + 1)\n",
    "plt.ylabel('Cluster')\n",
    "plt.xlabel('Silhouette coefficient')\n",
    "\n",
    "plt.tight_layout()\n",
    "#plt.savefig('images/11_04.png', dpi=300)\n",
    "plt.show()"
   ]
  },
  {
   "cell_type": "code",
   "execution_count": 17,
   "id": "ab459133-90ea-4a36-a83d-e0a0ff2c3b81",
   "metadata": {
    "tags": []
   },
   "outputs": [
    {
     "name": "stdout",
     "output_type": "stream",
     "text": [
      "silhouette_avg: 0.45\n"
     ]
    },
    {
     "data": {
      "image/png": "[encoded data removed]",
      "text/plain": [
       "<Figure size 640x480 with 1 Axes>"
      ]
     },
     "metadata": {},
     "output_type": "display_data"
    }
   ],
   "source": [
    "km = KMeans(n_clusters=4,  \n",
    "            init='k-means++', \n",
    "            n_init=10, \n",
    "            max_iter=300,\n",
    "            tol=1e-04,\n",
    "            random_state=0)\n",
    "\n",
    "y_km = km.fit_predict(X)\n",
    "# print(y_km)\n",
    "\n",
    "cluster_labels = np.unique(y_km)\n",
    "# print(cluster_labels)\n",
    "\n",
    "n_clusters = cluster_labels.shape[0]\n",
    "\n",
    "silhouette_vals = silhouette_samples(X, y_km, metric='euclidean')\n",
    "# print('silhouette_vals\\n', silhouette_vals)\n",
    "y_ax_lower, y_ax_upper = 0, 0\n",
    "yticks = []\n",
    "\n",
    "for i, c in enumerate(cluster_labels):\n",
    "    c_silhouette_vals = silhouette_vals[y_km == c]\n",
    "    c_silhouette_vals.sort()\n",
    "    y_ax_upper += len(c_silhouette_vals)\n",
    "    color = cm.jet(float(i) / n_clusters)\n",
    "    plt.barh(range(y_ax_lower, y_ax_upper), c_silhouette_vals, height=1.0, edgecolor='none', color=color)\n",
    "    yticks.append((y_ax_lower + y_ax_upper) / 2.)\n",
    "    y_ax_lower += len(c_silhouette_vals)\n",
    "    \n",
    "    \n",
    "silhouette_avg = np.mean(silhouette_vals)\n",
    "print(f'silhouette_avg: {silhouette_avg:.2f}')\n",
    "\n",
    "plt.axvline(silhouette_avg, color=\"red\", linestyle=\"--\") # plot vertical average line\n",
    "\n",
    "plt.yticks(yticks, cluster_labels + 1)\n",
    "plt.ylabel('Cluster')\n",
    "plt.xlabel('Silhouette coefficient')\n",
    "\n",
    "plt.tight_layout()\n",
    "#plt.savefig('images/11_04.png', dpi=300)\n",
    "plt.show()"
   ]
  },
  {
   "cell_type": "markdown",
   "id": "a07c893d-8831-4562-a7b7-f619b7a2e15e",
   "metadata": {},
   "source": [
    "### Estimate the clusters using both the K-means++ Clustering techniques based on optimal number"
   ]
  },
  {
   "cell_type": "code",
   "execution_count": 18,
   "id": "c18282f5-5718-4de2-ac89-e689a309344f",
   "metadata": {
    "tags": []
   },
   "outputs": [
    {
     "name": "stdout",
     "output_type": "stream",
     "text": [
      "[0 1 1 ... 0 1 0]\n",
      "\n",
      "Clusters:\n",
      " [[ 0.85641026  0.99282051  2.10358974  1.21538462  1.63692308  0.77758205\n",
      "   0.7781023 ]\n",
      " [ 0.36487805  0.03219512  0.84097561  0.03902439  0.0702439  -0.73965122\n",
      "  -0.74014609]]\n"
     ]
    },
    {
     "data": {
      "text/plain": [
       "KMeans++\n",
       "1    1024\n",
       "0     976\n",
       "Name: count, dtype: int64"
      ]
     },
     "execution_count": 18,
     "metadata": {},
     "output_type": "execute_result"
    }
   ],
   "source": [
    "optimal_clusters = 2\n",
    "\n",
    "km_plus = KMeans(n_clusters=optimal_clusters, \n",
    "            init='k-means++',  # use starndard k-means rather than k-means++ (see below)\n",
    "            n_init=10,      # run 10 times with different random centroids to choose the final model with the lowest SSE\n",
    "            max_iter=300,   # max number of iterations for each run\n",
    "            random_state=0)\n",
    "\n",
    "y_km_plus = km_plus.fit_predict(X)\n",
    "\n",
    "\n",
    "print(y_km_plus)\n",
    "print(f'\\nClusters:\\n {km_plus.cluster_centers_}')\n",
    "\n",
    "df_drop['KMeans++'] = km_plus.labels_\n",
    "df_drop['KMeans++'].value_counts()"
   ]
  },
  {
   "cell_type": "markdown",
   "id": "51aa6417-4c4a-4d00-9227-16ea537bb4cc",
   "metadata": {},
   "source": [
    "### Estimate the clusters using both the Agglomerative Clustering techniques based on optimal number"
   ]
  },
  {
   "cell_type": "code",
   "execution_count": 19,
   "id": "41f23cee-fec0-4394-9c4e-0f335b1bc31f",
   "metadata": {
    "tags": []
   },
   "outputs": [
    {
     "name": "stdout",
     "output_type": "stream",
     "text": [
      "Cluster labels: [0 1 1 ... 0 1 0]\n"
     ]
    },
    {
     "name": "stderr",
     "output_type": "stream",
     "text": [
      "/Users/vandinh/anaconda3/lib/python3.11/site-packages/sklearn/cluster/_agglomerative.py:1005: FutureWarning: Attribute `affinity` was deprecated in version 1.2 and will be removed in 1.4. Use `metric` instead\n",
      "  warnings.warn(\n"
     ]
    },
    {
     "data": {
      "text/plain": [
       "Agglomerative\n",
       "0    1163\n",
       "1     837\n",
       "Name: count, dtype: int64"
      ]
     },
     "execution_count": 19,
     "metadata": {},
     "output_type": "execute_result"
    }
   ],
   "source": [
    "#Agglomerative clustering\n",
    "\n",
    "from sklearn.cluster import AgglomerativeClustering\n",
    "\n",
    "ac = AgglomerativeClustering(n_clusters=optimal_clusters, \n",
    "                             affinity='euclidean', \n",
    "                             linkage='complete')\n",
    "labels = ac.fit_predict(X)\n",
    "\n",
    "\n",
    "print('Cluster labels: %s' % labels)\n",
    "\n",
    "df_drop['Agglomerative'] = ac.labels_\n",
    "df_drop['Agglomerative'].value_counts()"
   ]
  },
  {
   "cell_type": "markdown",
   "id": "cfc265dc-0a2d-4729-a1a2-6de0d9929cd7",
   "metadata": {},
   "source": [
    "### Table for KMeans clustering technique"
   ]
  },
  {
   "cell_type": "code",
   "execution_count": 20,
   "id": "bde304f2-f09e-4ac8-a080-1bc6fc8ac14d",
   "metadata": {
    "tags": []
   },
   "outputs": [
    {
     "name": "stdout",
     "output_type": "stream",
     "text": [
      "\n",
      "Combined Cluster Centers and Customer Counts (KMeans++):\n"
     ]
    },
    {
     "data": {
      "text/html": [
       "<div>\n",
       "<style scoped>\n",
       "    .dataframe tbody tr th:only-of-type {\n",
       "        vertical-align: middle;\n",
       "    }\n",
       "\n",
       "    .dataframe tbody tr th {\n",
       "        vertical-align: top;\n",
       "    }\n",
       "\n",
       "    .dataframe thead th {\n",
       "        text-align: right;\n",
       "    }\n",
       "</style>\n",
       "<table border=\"1\" class=\"dataframe\">\n",
       "  <thead>\n",
       "    <tr style=\"text-align: right;\">\n",
       "      <th></th>\n",
       "      <th>KMeans++</th>\n",
       "      <th>Gender</th>\n",
       "      <th>Marital Status</th>\n",
       "      <th>Education</th>\n",
       "      <th>Occupation</th>\n",
       "      <th>Settlement Size</th>\n",
       "      <th>age_scaled</th>\n",
       "      <th>income_scaled</th>\n",
       "      <th>Number of Customers</th>\n",
       "    </tr>\n",
       "  </thead>\n",
       "  <tbody>\n",
       "    <tr>\n",
       "      <th>0</th>\n",
       "      <td>0</td>\n",
       "      <td>0.855533</td>\n",
       "      <td>0.991803</td>\n",
       "      <td>2.102459</td>\n",
       "      <td>1.214139</td>\n",
       "      <td>1.635246</td>\n",
       "      <td>0.777997</td>\n",
       "      <td>0.778479</td>\n",
       "      <td>976</td>\n",
       "    </tr>\n",
       "    <tr>\n",
       "      <th>1</th>\n",
       "      <td>1</td>\n",
       "      <td>0.365234</td>\n",
       "      <td>0.032227</td>\n",
       "      <td>0.840820</td>\n",
       "      <td>0.039062</td>\n",
       "      <td>0.070312</td>\n",
       "      <td>-0.741528</td>\n",
       "      <td>-0.741987</td>\n",
       "      <td>1024</td>\n",
       "    </tr>\n",
       "  </tbody>\n",
       "</table>\n",
       "</div>"
      ],
      "text/plain": [
       "   KMeans++    Gender  Marital Status  Education  Occupation  Settlement Size  \\\n",
       "0         0  0.855533        0.991803   2.102459    1.214139         1.635246   \n",
       "1         1  0.365234        0.032227   0.840820    0.039062         0.070312   \n",
       "\n",
       "   age_scaled  income_scaled  Number of Customers  \n",
       "0    0.777997       0.778479                  976  \n",
       "1   -0.741528      -0.741987                 1024  "
      ]
     },
     "execution_count": 20,
     "metadata": {},
     "output_type": "execute_result"
    }
   ],
   "source": [
    "# Drop the 'Agglomerative' column for KMeans++ analysis\n",
    "df_kmeans = df_drop.drop(columns='Agglomerative')\n",
    "\n",
    "# Count the number of customers in each cluster\n",
    "kmeans_counts = df_kmeans['KMeans++'].value_counts().reset_index()\n",
    "kmeans_counts.columns = ['Cluster', 'Number of Customers']\n",
    "\n",
    "# Calculate the cluster centers (mean of features for each cluster)\n",
    "kmeans_centers = df_kmeans.groupby('KMeans++').mean().reset_index()\n",
    "\n",
    "# Combine both results into a single DataFrame using concat\n",
    "kmeans_results = pd.concat([kmeans_centers, kmeans_counts.set_index('Cluster')], axis=1)\n",
    "\n",
    "# Set the column names for the combined DataFrame\n",
    "kmeans_results.columns = list(kmeans_centers.columns) + ['Number of Customers']\n",
    "\n",
    "# Reset the index to make 'KMeans++' a column instead of an index\n",
    "kmeans_results.reset_index(drop=True, inplace=True)\n",
    "\n",
    "# Display the combined results\n",
    "print(\"\\nCombined Cluster Centers and Customer Counts (KMeans++):\")\n",
    "kmeans_results"
   ]
  },
  {
   "cell_type": "markdown",
   "id": "613db8cd-b3b4-421c-a61a-8498a15ae001",
   "metadata": {},
   "source": [
    "### Table for Agglomerative clustering technique¶"
   ]
  },
  {
   "cell_type": "code",
   "execution_count": 21,
   "id": "d6a979da-fab9-4170-ba9c-a9414ee2179d",
   "metadata": {
    "tags": []
   },
   "outputs": [
    {
     "name": "stdout",
     "output_type": "stream",
     "text": [
      "\n",
      "Combined Cluster Centers and Customer Counts (Agglomerative):\n"
     ]
    },
    {
     "data": {
      "text/html": [
       "<div>\n",
       "<style scoped>\n",
       "    .dataframe tbody tr th:only-of-type {\n",
       "        vertical-align: middle;\n",
       "    }\n",
       "\n",
       "    .dataframe tbody tr th {\n",
       "        vertical-align: top;\n",
       "    }\n",
       "\n",
       "    .dataframe thead th {\n",
       "        text-align: right;\n",
       "    }\n",
       "</style>\n",
       "<table border=\"1\" class=\"dataframe\">\n",
       "  <thead>\n",
       "    <tr style=\"text-align: right;\">\n",
       "      <th></th>\n",
       "      <th>Agglomerative</th>\n",
       "      <th>Gender</th>\n",
       "      <th>Marital Status</th>\n",
       "      <th>Education</th>\n",
       "      <th>Occupation</th>\n",
       "      <th>Settlement Size</th>\n",
       "      <th>age_scaled</th>\n",
       "      <th>income_scaled</th>\n",
       "      <th>Number of Customers</th>\n",
       "    </tr>\n",
       "  </thead>\n",
       "  <tbody>\n",
       "    <tr>\n",
       "      <th>0</th>\n",
       "      <td>0</td>\n",
       "      <td>0.774721</td>\n",
       "      <td>0.856406</td>\n",
       "      <td>1.925193</td>\n",
       "      <td>1.043852</td>\n",
       "      <td>1.384351</td>\n",
       "      <td>0.661907</td>\n",
       "      <td>0.662055</td>\n",
       "      <td>1163</td>\n",
       "    </tr>\n",
       "    <tr>\n",
       "      <th>1</th>\n",
       "      <td>1</td>\n",
       "      <td>0.367981</td>\n",
       "      <td>0.005974</td>\n",
       "      <td>0.805257</td>\n",
       "      <td>0.013142</td>\n",
       "      <td>0.069295</td>\n",
       "      <td>-0.919710</td>\n",
       "      <td>-0.919916</td>\n",
       "      <td>837</td>\n",
       "    </tr>\n",
       "  </tbody>\n",
       "</table>\n",
       "</div>"
      ],
      "text/plain": [
       "   Agglomerative    Gender  Marital Status  Education  Occupation  \\\n",
       "0              0  0.774721        0.856406   1.925193    1.043852   \n",
       "1              1  0.367981        0.005974   0.805257    0.013142   \n",
       "\n",
       "   Settlement Size  age_scaled  income_scaled  Number of Customers  \n",
       "0         1.384351    0.661907       0.662055                 1163  \n",
       "1         0.069295   -0.919710      -0.919916                  837  "
      ]
     },
     "execution_count": 21,
     "metadata": {},
     "output_type": "execute_result"
    }
   ],
   "source": [
    "# Drop the 'KMeans++' column for Agglomerative analysis\n",
    "df_agglomerative = df_drop.drop(columns='KMeans++')\n",
    "\n",
    "# Count the number of customers in each cluster\n",
    "agglomerative_counts = df_agglomerative['Agglomerative'].value_counts().reset_index()\n",
    "agglomerative_counts.columns = ['Cluster', 'Number of Customers']\n",
    "\n",
    "# Calculate the cluster centers (mean of features for each cluster)\n",
    "agglomerative_centers = df_agglomerative.groupby('Agglomerative').mean().reset_index()\n",
    "\n",
    "# Combine both results into a single DataFrame using concat\n",
    "agglomerative_results = pd.concat([agglomerative_centers, agglomerative_counts.set_index('Cluster')], axis=1)\n",
    "\n",
    "# Set the column names for the combined DataFrame\n",
    "agglomerative_results.columns = list(agglomerative_centers.columns) + ['Number of Customers']\n",
    "\n",
    "# Reset the index to make 'Agglomerative' a column instead of an index\n",
    "agglomerative_results.reset_index(drop=True, inplace=True)\n",
    "\n",
    "# Display the combined results\n",
    "print(\"\\nCombined Cluster Centers and Customer Counts (Agglomerative):\")\n",
    "agglomerative_results"
   ]
  },
  {
   "cell_type": "code",
   "execution_count": 22,
   "id": "22631156-aa2f-48e4-bd77-37943a1bf847",
   "metadata": {},
   "outputs": [
    {
     "name": "stdout",
     "output_type": "stream",
     "text": [
      "Mean of age:  40.8235\n",
      "Mean of income:  137516.1965\n"
     ]
    }
   ],
   "source": [
    "# Calculate mean of age and income column respectively in the original dataframe\n",
    "age_mean = df['Age'].mean()\n",
    "income_mean = df['Income'].mean()\n",
    "print (\"Mean of age: \", age_mean)\n",
    "print (\"Mean of income: \", income_mean)"
   ]
  },
  {
   "cell_type": "code",
   "execution_count": 23,
   "id": "9182b8c1-8cb5-4212-b023-3ee03fca3c15",
   "metadata": {},
   "outputs": [
    {
     "name": "stdout",
     "output_type": "stream",
     "text": [
      "Standard deviation of age:  9.455847623409465\n",
      "Standard deviation of income:  46184.29658753648\n"
     ]
    }
   ],
   "source": [
    "# Calculate standard deviation of age and income column respectively in the original dataframe\n",
    "age_std = df['Age'].std()\n",
    "income_std = df['Income'].std()\n",
    "print (\"Standard deviation of age: \", age_std)\n",
    "print (\"Standard deviation of income: \", income_std)"
   ]
  },
  {
   "cell_type": "markdown",
   "id": "f3c2b834-1cb0-4fed-ae43-20e3e9cdf455",
   "metadata": {},
   "source": [
    "### Table with real age and income values with KMeans++ clustering technique"
   ]
  },
  {
   "cell_type": "code",
   "execution_count": 24,
   "id": "92ae1b55-cdcf-41fd-a38f-54dfe6ba7981",
   "metadata": {
    "tags": []
   },
   "outputs": [
    {
     "name": "stdout",
     "output_type": "stream",
     "text": [
      "\n",
      "Combined Cluster Centers and Customer Counts (KMeans++) with Real Age and Income:\n"
     ]
    },
    {
     "data": {
      "text/html": [
       "<div>\n",
       "<style scoped>\n",
       "    .dataframe tbody tr th:only-of-type {\n",
       "        vertical-align: middle;\n",
       "    }\n",
       "\n",
       "    .dataframe tbody tr th {\n",
       "        vertical-align: top;\n",
       "    }\n",
       "\n",
       "    .dataframe thead th {\n",
       "        text-align: right;\n",
       "    }\n",
       "</style>\n",
       "<table border=\"1\" class=\"dataframe\">\n",
       "  <thead>\n",
       "    <tr style=\"text-align: right;\">\n",
       "      <th></th>\n",
       "      <th>KMeans++</th>\n",
       "      <th>Gender</th>\n",
       "      <th>Marital Status</th>\n",
       "      <th>Education</th>\n",
       "      <th>Occupation</th>\n",
       "      <th>Settlement Size</th>\n",
       "      <th>Real Age</th>\n",
       "      <th>Real Income</th>\n",
       "      <th>Number of Customers</th>\n",
       "    </tr>\n",
       "  </thead>\n",
       "  <tbody>\n",
       "    <tr>\n",
       "      <th>0</th>\n",
       "      <td>1</td>\n",
       "      <td>0.855533</td>\n",
       "      <td>0.991803</td>\n",
       "      <td>2.102459</td>\n",
       "      <td>1.214139</td>\n",
       "      <td>1.635246</td>\n",
       "      <td>48.180118</td>\n",
       "      <td>173469.679044</td>\n",
       "      <td>976</td>\n",
       "    </tr>\n",
       "    <tr>\n",
       "      <th>1</th>\n",
       "      <td>2</td>\n",
       "      <td>0.365234</td>\n",
       "      <td>0.032227</td>\n",
       "      <td>0.840820</td>\n",
       "      <td>0.039062</td>\n",
       "      <td>0.070312</td>\n",
       "      <td>33.811723</td>\n",
       "      <td>103248.033451</td>\n",
       "      <td>1024</td>\n",
       "    </tr>\n",
       "  </tbody>\n",
       "</table>\n",
       "</div>"
      ],
      "text/plain": [
       "   KMeans++    Gender  Marital Status  Education  Occupation  Settlement Size  \\\n",
       "0         1  0.855533        0.991803   2.102459    1.214139         1.635246   \n",
       "1         2  0.365234        0.032227   0.840820    0.039062         0.070312   \n",
       "\n",
       "    Real Age    Real Income  Number of Customers  \n",
       "0  48.180118  173469.679044                  976  \n",
       "1  33.811723  103248.033451                 1024  "
      ]
     },
     "execution_count": 24,
     "metadata": {},
     "output_type": "execute_result"
    }
   ],
   "source": [
    "# Drop the 'Agglomerative' column for KMeans++ analysis\n",
    "df_kmeans = df_drop.drop(columns='Agglomerative')\n",
    "\n",
    "# Count the number of customers in each cluster\n",
    "kmeans_counts = df_kmeans['KMeans++'].value_counts().reset_index()\n",
    "kmeans_counts.columns = ['Cluster', 'Number of Customers']\n",
    "\n",
    "# Calculate the cluster centers (mean of features for each cluster)\n",
    "kmeans_centers = df_kmeans.groupby('KMeans++').mean().reset_index()\n",
    "\n",
    "# Convert the scaled 'age_scaled' and 'income_scaled' back to real values for the cluster centers\n",
    "kmeans_centers['Real Age'] = (kmeans_centers['age_scaled'] * age_std) + age_mean\n",
    "kmeans_centers['Real Income'] = (kmeans_centers['income_scaled'] * income_std) + income_mean\n",
    "\n",
    "# Drop the 'age_scaled' and 'income_scaled' columns from the kmeans_centers DataFrame\n",
    "kmeans_centers = kmeans_centers.drop(columns=['age_scaled', 'income_scaled'])\n",
    "\n",
    "# Combine both results into a single DataFrame using concat\n",
    "kmeans_results = pd.concat([kmeans_centers, kmeans_counts.set_index('Cluster')], axis=1)\n",
    "\n",
    "# Set the column names for the combined DataFrame\n",
    "kmeans_results.columns = list(kmeans_centers.columns) + ['Number of Customers']\n",
    "\n",
    "# Reset the index to make 'KMeans++' a column instead of an index\n",
    "kmeans_results.reset_index(drop=True, inplace=True)\n",
    "\n",
    "# Increment the cluster numbers by 1\n",
    "kmeans_results['KMeans++'] = kmeans_results['KMeans++'] + 1\n",
    "\n",
    "# Display the combined results\n",
    "print(\"\\nCombined Cluster Centers and Customer Counts (KMeans++) with Real Age and Income:\")\n",
    "kmeans_results\n"
   ]
  },
  {
   "cell_type": "code",
   "execution_count": 25,
   "id": "f10c447c-fb62-4494-89e2-8f20a4ad9130",
   "metadata": {
    "tags": []
   },
   "outputs": [
    {
     "data": {
      "text/html": [
       "<div>\n",
       "<style scoped>\n",
       "    .dataframe tbody tr th:only-of-type {\n",
       "        vertical-align: middle;\n",
       "    }\n",
       "\n",
       "    .dataframe tbody tr th {\n",
       "        vertical-align: top;\n",
       "    }\n",
       "\n",
       "    .dataframe thead th {\n",
       "        text-align: right;\n",
       "    }\n",
       "</style>\n",
       "<table border=\"1\" class=\"dataframe\">\n",
       "  <thead>\n",
       "    <tr style=\"text-align: right;\">\n",
       "      <th></th>\n",
       "      <th>KMeans++</th>\n",
       "      <th>Gender</th>\n",
       "      <th>Marital Status</th>\n",
       "      <th>Education</th>\n",
       "      <th>Occupation</th>\n",
       "      <th>Settlement Size</th>\n",
       "      <th>Real Age</th>\n",
       "      <th>Real Income</th>\n",
       "      <th>Number of Customers</th>\n",
       "    </tr>\n",
       "  </thead>\n",
       "  <tbody>\n",
       "    <tr>\n",
       "      <th>0</th>\n",
       "      <td>1</td>\n",
       "      <td>Female</td>\n",
       "      <td>Non-Single</td>\n",
       "      <td>University</td>\n",
       "      <td>Skilled Employee/Official</td>\n",
       "      <td>Big City</td>\n",
       "      <td>48.180118</td>\n",
       "      <td>173469.679044</td>\n",
       "      <td>976</td>\n",
       "    </tr>\n",
       "    <tr>\n",
       "      <th>1</th>\n",
       "      <td>2</td>\n",
       "      <td>Male</td>\n",
       "      <td>Single</td>\n",
       "      <td>High School</td>\n",
       "      <td>Unemployed/Unskilled</td>\n",
       "      <td>Small City</td>\n",
       "      <td>33.811723</td>\n",
       "      <td>103248.033451</td>\n",
       "      <td>1024</td>\n",
       "    </tr>\n",
       "  </tbody>\n",
       "</table>\n",
       "</div>"
      ],
      "text/plain": [
       "   KMeans++  Gender Marital Status    Education                 Occupation  \\\n",
       "0         1  Female     Non-Single   University  Skilled Employee/Official   \n",
       "1         2    Male         Single  High School       Unemployed/Unskilled   \n",
       "\n",
       "  Settlement Size   Real Age    Real Income  Number of Customers  \n",
       "0        Big City  48.180118  173469.679044                  976  \n",
       "1      Small City  33.811723  103248.033451                 1024  "
      ]
     },
     "execution_count": 25,
     "metadata": {},
     "output_type": "execute_result"
    }
   ],
   "source": [
    "\n",
    "# Define mapping dictionaries for categorical variables\n",
    "gender_mapping = {0: 'Male', 1: 'Female'}\n",
    "marital_status_mapping = {0: 'Single', 1: 'Non-Single'}\n",
    "education_mapping = {0: 'Other/Unknown', 1: 'High School', 2: 'University', 3: 'Graduate School'}\n",
    "occupation_mapping = {0: 'Unemployed/Unskilled', 1: 'Skilled Employee/Official', 2: 'Management/Self-employed/Highly qualified employee /Officer'}\n",
    "settlement_size_mapping = {0: 'Small City', 1: 'Mid-sized City', 2: 'Big City'}\n",
    "\n",
    "# Map the rounded values to descriptive labels\n",
    "kmeans_results['Gender'] = kmeans_results['Gender'].round().map(gender_mapping)\n",
    "kmeans_results['Marital Status'] = kmeans_results['Marital Status'].round().map(marital_status_mapping)\n",
    "kmeans_results['Education'] = kmeans_results['Education'].round().map(education_mapping)\n",
    "kmeans_results['Occupation'] = kmeans_results['Occupation'].round().map(occupation_mapping)\n",
    "kmeans_results['Settlement Size'] = kmeans_results['Settlement Size'].round().map(settlement_size_mapping)\n",
    "\n",
    "# Display the transformed DataFrame\n",
    "kmeans_results\n"
   ]
  },
  {
   "cell_type": "markdown",
   "id": "857dfec3-457c-4215-b6b3-7fb3d796924c",
   "metadata": {},
   "source": [
    "### Table with real age and income values with Agglomerative clustering technique¶"
   ]
  },
  {
   "cell_type": "code",
   "execution_count": 26,
   "id": "5f85579a-5212-406d-8df9-cca273e37ba8",
   "metadata": {
    "tags": []
   },
   "outputs": [
    {
     "name": "stdout",
     "output_type": "stream",
     "text": [
      "\n",
      "Combined Cluster Centers and Customer Counts (Agglomerative) with Real Age and Income:\n"
     ]
    },
    {
     "data": {
      "text/html": [
       "<div>\n",
       "<style scoped>\n",
       "    .dataframe tbody tr th:only-of-type {\n",
       "        vertical-align: middle;\n",
       "    }\n",
       "\n",
       "    .dataframe tbody tr th {\n",
       "        vertical-align: top;\n",
       "    }\n",
       "\n",
       "    .dataframe thead th {\n",
       "        text-align: right;\n",
       "    }\n",
       "</style>\n",
       "<table border=\"1\" class=\"dataframe\">\n",
       "  <thead>\n",
       "    <tr style=\"text-align: right;\">\n",
       "      <th></th>\n",
       "      <th>Agglomerative</th>\n",
       "      <th>Gender</th>\n",
       "      <th>Marital Status</th>\n",
       "      <th>Education</th>\n",
       "      <th>Occupation</th>\n",
       "      <th>Settlement Size</th>\n",
       "      <th>Real Age</th>\n",
       "      <th>Real Income</th>\n",
       "      <th>Number of Customers</th>\n",
       "    </tr>\n",
       "  </thead>\n",
       "  <tbody>\n",
       "    <tr>\n",
       "      <th>0</th>\n",
       "      <td>1</td>\n",
       "      <td>0.774721</td>\n",
       "      <td>0.856406</td>\n",
       "      <td>1.925193</td>\n",
       "      <td>1.043852</td>\n",
       "      <td>1.384351</td>\n",
       "      <td>47.082390</td>\n",
       "      <td>168092.726774</td>\n",
       "      <td>1163</td>\n",
       "    </tr>\n",
       "    <tr>\n",
       "      <th>1</th>\n",
       "      <td>2</td>\n",
       "      <td>0.367981</td>\n",
       "      <td>0.005974</td>\n",
       "      <td>0.805257</td>\n",
       "      <td>0.013142</td>\n",
       "      <td>0.069295</td>\n",
       "      <td>32.126858</td>\n",
       "      <td>95030.527792</td>\n",
       "      <td>837</td>\n",
       "    </tr>\n",
       "  </tbody>\n",
       "</table>\n",
       "</div>"
      ],
      "text/plain": [
       "   Agglomerative    Gender  Marital Status  Education  Occupation  \\\n",
       "0              1  0.774721        0.856406   1.925193    1.043852   \n",
       "1              2  0.367981        0.005974   0.805257    0.013142   \n",
       "\n",
       "   Settlement Size   Real Age    Real Income  Number of Customers  \n",
       "0         1.384351  47.082390  168092.726774                 1163  \n",
       "1         0.069295  32.126858   95030.527792                  837  "
      ]
     },
     "execution_count": 26,
     "metadata": {},
     "output_type": "execute_result"
    }
   ],
   "source": [
    "# Drop the 'KMeans++' column for Agglomerative analysis\n",
    "df_agglomerative = df_drop.drop(columns='KMeans++')\n",
    "\n",
    "# Count the number of customers in each cluster\n",
    "agglomerative_counts = df_agglomerative['Agglomerative'].value_counts().reset_index()\n",
    "agglomerative_counts.columns = ['Cluster', 'Number of Customers']\n",
    "\n",
    "# Calculate the cluster centers (mean of features for each cluster)\n",
    "agglomerative_centers = df_agglomerative.groupby('Agglomerative').mean().reset_index()\n",
    "\n",
    "# Convert the scaled 'age_scaled' and 'income_scaled' back to real values for the cluster centers\n",
    "agglomerative_centers['Real Age'] = (agglomerative_centers['age_scaled'] * age_std) + age_mean\n",
    "agglomerative_centers['Real Income'] = (agglomerative_centers['income_scaled'] * income_std) + income_mean\n",
    "\n",
    "# Drop the 'age_scaled' and 'income_scaled' columns from the agglomerative_centers DataFrame\n",
    "agglomerative_centers = agglomerative_centers.drop(columns=['age_scaled', 'income_scaled'])\n",
    "\n",
    "# Combine both results into a single DataFrame using concat\n",
    "agglomerative_results = pd.concat([agglomerative_centers, agglomerative_counts.set_index('Cluster')], axis=1)\n",
    "\n",
    "# Set the column names for the combined DataFrame\n",
    "agglomerative_results.columns = list(agglomerative_centers.columns) + ['Number of Customers']\n",
    "\n",
    "# Reset the index to make 'Agglomerative' a column instead of an index\n",
    "agglomerative_results.reset_index(drop=True, inplace=True)\n",
    "\n",
    "# Increment the cluster numbers by 1\n",
    "agglomerative_results['Agglomerative'] = agglomerative_results['Agglomerative'] + 1\n",
    "\n",
    "# Display the combined results\n",
    "print(\"\\nCombined Cluster Centers and Customer Counts (Agglomerative) with Real Age and Income:\")\n",
    "agglomerative_results\n"
   ]
  },
  {
   "cell_type": "code",
   "execution_count": 27,
   "id": "1a57e024-750c-4ed8-9666-4ef9f96d6ed1",
   "metadata": {},
   "outputs": [
    {
     "data": {
      "text/html": [
       "<div>\n",
       "<style scoped>\n",
       "    .dataframe tbody tr th:only-of-type {\n",
       "        vertical-align: middle;\n",
       "    }\n",
       "\n",
       "    .dataframe tbody tr th {\n",
       "        vertical-align: top;\n",
       "    }\n",
       "\n",
       "    .dataframe thead th {\n",
       "        text-align: right;\n",
       "    }\n",
       "</style>\n",
       "<table border=\"1\" class=\"dataframe\">\n",
       "  <thead>\n",
       "    <tr style=\"text-align: right;\">\n",
       "      <th></th>\n",
       "      <th>Agglomerative</th>\n",
       "      <th>Gender</th>\n",
       "      <th>Marital Status</th>\n",
       "      <th>Education</th>\n",
       "      <th>Occupation</th>\n",
       "      <th>Settlement Size</th>\n",
       "      <th>Real Age</th>\n",
       "      <th>Real Income</th>\n",
       "      <th>Number of Customers</th>\n",
       "    </tr>\n",
       "  </thead>\n",
       "  <tbody>\n",
       "    <tr>\n",
       "      <th>0</th>\n",
       "      <td>1</td>\n",
       "      <td>Female</td>\n",
       "      <td>Non-Single</td>\n",
       "      <td>University</td>\n",
       "      <td>Skilled Employee/Official</td>\n",
       "      <td>Mid-sized City</td>\n",
       "      <td>47.082390</td>\n",
       "      <td>168092.726774</td>\n",
       "      <td>1163</td>\n",
       "    </tr>\n",
       "    <tr>\n",
       "      <th>1</th>\n",
       "      <td>2</td>\n",
       "      <td>Male</td>\n",
       "      <td>Single</td>\n",
       "      <td>High School</td>\n",
       "      <td>Unemployed/Unskilled</td>\n",
       "      <td>Small City</td>\n",
       "      <td>32.126858</td>\n",
       "      <td>95030.527792</td>\n",
       "      <td>837</td>\n",
       "    </tr>\n",
       "  </tbody>\n",
       "</table>\n",
       "</div>"
      ],
      "text/plain": [
       "   Agglomerative  Gender Marital Status    Education  \\\n",
       "0              1  Female     Non-Single   University   \n",
       "1              2    Male         Single  High School   \n",
       "\n",
       "                  Occupation Settlement Size   Real Age    Real Income  \\\n",
       "0  Skilled Employee/Official  Mid-sized City  47.082390  168092.726774   \n",
       "1       Unemployed/Unskilled      Small City  32.126858   95030.527792   \n",
       "\n",
       "   Number of Customers  \n",
       "0                 1163  \n",
       "1                  837  "
      ]
     },
     "execution_count": 27,
     "metadata": {},
     "output_type": "execute_result"
    }
   ],
   "source": [
    "# Define mapping dictionaries for categorical variables\n",
    "gender_mapping = {0: 'Male', 1: 'Female'}\n",
    "marital_status_mapping = {0: 'Single', 1: 'Non-Single'}\n",
    "education_mapping = {0: 'Other/Unknown', 1: 'High School', 2: 'University', 3: 'Graduate School'}\n",
    "occupation_mapping = {0: 'Unemployed/Unskilled', 1: 'Skilled Employee/Official', 2: 'Management/Self-employed/Highly qualified employee /Officer'}\n",
    "settlement_size_mapping = {0: 'Small City', 1: 'Mid-sized City', 2: 'Big City'}\n",
    "\n",
    "# Map the rounded values to descriptive labels\n",
    "agglomerative_results['Gender'] = agglomerative_results['Gender'].round().map(gender_mapping)\n",
    "agglomerative_results['Marital Status'] = agglomerative_results['Marital Status'].round().map(marital_status_mapping)\n",
    "agglomerative_results['Education'] = agglomerative_results['Education'].round().map(education_mapping)\n",
    "agglomerative_results['Occupation'] = agglomerative_results['Occupation'].round().map(occupation_mapping)\n",
    "agglomerative_results['Settlement Size'] = agglomerative_results['Settlement Size'].round().map(settlement_size_mapping)\n",
    "\n",
    "# Display the transformed DataFrame\n",
    "agglomerative_results"
   ]
  },
  {
   "cell_type": "code",
   "execution_count": null,
   "id": "18a68c70-b940-432e-a131-076e8d9362df",
   "metadata": {},
   "outputs": [],
   "source": []
  }
 ],
 "metadata": {
  "kernelspec": {
   "display_name": "Python 3 (ipykernel)",
   "language": "python",
   "name": "python3"
  },
  "language_info": {
   "codemirror_mode": {
    "name": "ipython",
    "version": 3
   },
   "file_extension": ".py",
   "mimetype": "text/x-python",
   "name": "python",
   "nbconvert_exporter": "python",
   "pygments_lexer": "ipython3",
   "version": "3.11.5"
  }
 },
 "nbformat": 4,
 "nbformat_minor": 5
}
